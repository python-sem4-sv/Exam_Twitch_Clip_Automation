{
 "cells": [
  {
   "cell_type": "code",
   "execution_count": 25,
   "metadata": {},
   "outputs": [
    {
     "name": "stdout",
     "output_type": "stream",
     "text": [
      "handekdb\n",
      "\n",
      "wava\n",
      "\n",
      "Shiragomii\n",
      "\n",
      "akaFarva\n",
      "\n",
      "Nosties\n",
      "\n",
      "fabreeexd\n",
      "\n"
     ]
    }
   ],
   "source": [
    "from selenium import webdriver\n",
    "from selenium.webdriver.common.keys import Keys\n",
    "from bs4 import BeautifulSoup\n",
    "import time\n",
    "twitch_username = \"shroud\"\n",
    "twitch_chat = \"https://www.twitch.tv/popout/{}/chat?popout=\".format()\n",
    "driver = webdriver.Chrome('./Webdrivers/chromedriver.exe')\n",
    "driver.get(twitch_chat)\n",
    "elements = []\n",
    "time.sleep(10)\n",
    "                                        #Class name for username\n",
    "elem = driver.find_elements_by_class_name(\"chat-line__username\")\n",
    "for e in elem:\n",
    "    e_text = e.text\n",
    "    soup = BeautifulSoup(e_text, 'html.parser')\n",
    "    print(soup.prettify())\n",
    "\n",
    "    \n"
   ]
  }
 ],
 "metadata": {
  "kernelspec": {
   "display_name": "Python 3",
   "language": "python",
   "name": "python3"
  },
  "language_info": {
   "codemirror_mode": {
    "name": "ipython",
    "version": 3
   },
   "file_extension": ".py",
   "mimetype": "text/x-python",
   "name": "python",
   "nbconvert_exporter": "python",
   "pygments_lexer": "ipython3",
   "version": "3.7.3"
  }
 },
 "nbformat": 4,
 "nbformat_minor": 2
}
