{
 "cells": [
  {
   "cell_type": "code",
   "execution_count": 6,
   "metadata": {},
   "outputs": [],
   "source": [
    "import re\n",
    "from selenium import webdriver\n",
    "from selenium.webdriver.common.keys import Keys\n",
    "from bs4 import BeautifulSoup\n",
    "import time"
   ]
  },
  {
   "cell_type": "code",
   "execution_count": 15,
   "metadata": {},
   "outputs": [],
   "source": [
    "twitch_username = \"oudwoods\"\n",
    "twitch_chat = \"https://www.twitch.tv/popout/{}/chat?popout=\".format(twitch_username)\n",
    "driver = webdriver.Chrome('./Webdrivers/chromedriver.exe')\n",
    "driver.get(twitch_chat)\n",
    "elements = []\n",
    "time.sleep(10)\n",
    "\n",
    "                                        #Class name for username\n",
    "elem = driver.find_elements_by_class_name(\"chat-line__message\")\n",
    "for e in elem:\n",
    "    e_text = e.text\n",
    "    soup = BeautifulSoup(e_text, 'html.parser').prettify()\n",
    "    \n",
    "    rgx = re.compile(r'([\\S ]*): ([\\S ]*)')\n",
    "    r1 = rgx.findall(soup);\n",
    "    print(r1)\n",
    "\n",
    "    \n",
    "    \n"
   ]
  },
  {
   "cell_type": "code",
   "execution_count": null,
   "metadata": {},
   "outputs": [],
   "source": [
    "    "
   ]
  }
 ],
 "metadata": {
  "kernelspec": {
   "display_name": "Python 3",
   "language": "python",
   "name": "python3"
  },
  "language_info": {
   "codemirror_mode": {
    "name": "ipython",
    "version": 3
   },
   "file_extension": ".py",
   "mimetype": "text/x-python",
   "name": "python",
   "nbconvert_exporter": "python",
   "pygments_lexer": "ipython3",
   "version": "3.7.3"
  }
 },
 "nbformat": 4,
 "nbformat_minor": 2
}
