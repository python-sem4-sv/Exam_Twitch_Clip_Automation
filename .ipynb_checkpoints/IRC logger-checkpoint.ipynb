{
 "cells": [
  {
   "cell_type": "code",
   "execution_count": 7,
   "metadata": {},
   "outputs": [],
   "source": [
    "import socket\n",
    "import logging\n",
    "from emoji import demojize\n",
    "import re"
   ]
  },
  {
   "cell_type": "code",
   "execution_count": 8,
   "metadata": {},
   "outputs": [],
   "source": [
    "server = 'irc.chat.twitch.tv'\n",
    "port = 6667\n",
    "nickname = 'pythonprojectbot'\n",
    "token = 'oauth:wtualywhmoi5no29dugyu6e9g39azw'\n",
    "channel = '#oudwoods'"
   ]
  },
  {
   "cell_type": "code",
   "execution_count": 9,
   "metadata": {},
   "outputs": [
    {
     "data": {
      "text/plain": [
       "15"
      ]
     },
     "execution_count": 9,
     "metadata": {},
     "output_type": "execute_result"
    }
   ],
   "source": [
    "#attempting to connect to a desired twitch channels IRC with the info from above cell\n",
    "\n",
    "sock = socket.socket()\n",
    "sock.connect((server,port))\n",
    "sock.send(f\"PASS {token}\\n\".encode('utf-8'))\n",
    "sock.send(f\"NICK {nickname}\\n\".encode('utf-8'))\n",
    "sock.send(f\"JOIN {channel}\\n\".encode('utf-8'))"
   ]
  },
  {
   "cell_type": "code",
   "execution_count": 10,
   "metadata": {},
   "outputs": [
    {
     "data": {
      "text/plain": [
       "':tmi.twitch.tv 001 pythonprojectbot :Welcome, GLHF!\\r\\n:tmi.twitch.tv 002 pythonprojectbot :Your host is tmi.twitch.tv\\r\\n:tmi.twitch.tv 003 pythonprojectbot :This server is rather new\\r\\n:tmi.twitch.tv 004 pythonprojectbot :-\\r\\n:tmi.twitch.tv 375 pythonprojectbot :-\\r\\n:tmi.twitch.tv 372 pythonprojectbot :You are in a maze of twisty passages, all alike.\\r\\n:tmi.twitch.tv 376 pythonprojectbot :>\\r\\n:pythonprojectbot!pythonprojectbot@pythonprojectbot.tmi.twitch.tv JOIN #oudwoods\\r\\n:pythonprojectbot.tmi.twitch.tv 353 pythonprojectbot = #oudwoods :pythonprojectbot\\r\\n:pythonprojectbot.tmi.twitch.tv 366 pythonprojectbot #oudwoods :End of /NAMES list\\r\\n'"
      ]
     },
     "execution_count": 10,
     "metadata": {},
     "output_type": "execute_result"
    }
   ],
   "source": [
    "#Receiving channel messages\n",
    "resp = sock.recv(2048).decode(\"utf-8\")\n",
    "\n",
    "resp"
   ]
  },
  {
   "cell_type": "code",
   "execution_count": null,
   "metadata": {},
   "outputs": [
    {
     "name": "stdout",
     "output_type": "stream",
     "text": [
      "obietricekenobie\n",
      ":OK_hand: :cat_face_with_tears_of_joy: :eggplant: :sweat_droplets: :sweat_droplets: :sweat_droplets: :sweat_droplets: :drooling_face: :drooling_face:\n",
      "obietricekenobie\n",
      ":OK_hand: :cat_face_with_tears_of_joy: :eggplant: :sweat_droplets: :sweat_droplets: :sweat_droplets: :sweat_droplets: :drooling_face: :drooling_face:\n",
      "obietricekenobie\n",
      ":OK_hand: :cat_face_with_tears_of_joy: :eggplant: :sweat_droplets: :sweat_droplets: :sweat_droplets: :sweat_droplets: :drooling_face: :drooling_face:\n",
      "obietricekenobie\n",
      ":OK_hand: :cat_face_with_tears_of_joy: :eggplant: :sweat_droplets: :sweat_droplets: :sweat_droplets: :sweat_droplets: :drooling_face: :drooling_face:\n",
      "obietricekenobie\n",
      ":OK_hand: :cat_face_with_tears_of_joy: :eggplant: :sweat_droplets: :sweat_droplets: :sweat_droplets: :sweat_droplets: :drooling_face: :drooling_face:\n",
      "obietricekenobie\n",
      ":OK_hand: :cat_face_with_tears_of_joy: :eggplant: :sweat_droplets: :sweat_droplets: :sweat_droplets: :sweat_droplets: :drooling_face: :drooling_face:\n",
      "obietricekenobie\n",
      ":OK_hand: :cat_face_with_tears_of_joy: :eggplant: :sweat_droplets: :sweat_droplets: :sweat_droplets: :sweat_droplets: :drooling_face: :drooling_face:\n",
      "obietricekenobie\n",
      ":OK_hand: :cat_face_with_tears_of_joy: :eggplant: :sweat_droplets: :sweat_droplets: :sweat_droplets: :sweat_droplets: :drooling_face: :drooling_face:\n",
      "obietricekenobie\n",
      ":OK_hand: :cat_face_with_tears_of_joy: :eggplant: :sweat_droplets: :sweat_droplets: :sweat_droplets: :sweat_droplets: :drooling_face: :drooling_face:\n",
      "obietricekenobie\n",
      ":OK_hand: :cat_face_with_tears_of_joy: :eggplant: :sweat_droplets: :sweat_droplets: :sweat_droplets: :sweat_droplets: :drooling_face: :drooling_face:\n",
      "obietricekenobie\n",
      ":OK_hand: :cat_face_with_tears_of_joy: :eggplant: :sweat_droplets: :sweat_droplets: :sweat_droplets: :sweat_droplets: :drooling_face: :drooling_face:\n",
      "oudwoods\n",
      ":Sagittarius:\n",
      "oudwoods\n",
      "fagasdha\n",
      "pythonprojectbot\n",
      "likjyhtgrewdw\n",
      "obietricekenobie\n",
      "widePepeLaugh widepeepoHappy widePepeLaugh widepeepoHappy widePepeLaugh widepeepoHappy widePepeLaugh widepeepoHappy widePepeLaugh widepeepoHappy widePepeLaugh widepeepoHappy widePepeLaugh widepeepoHappy widePepeLaugh widepeepoHappy widePepeLaugh widepeepoHappy widePepeLaugh widepeepoHappy widePepeLaugh widepeepoHappy widePepeLaugh widepeepoHappy widePepeLaugh widepeepoHappy widePepeLaugh widepeepoHappy widePepeLaugh widepeepoHappy widePepeLaugh widepeepoHappy widePepeLaugh widepe\n",
      "obietricekenobie\n",
      "widePepeLaugh widepeepoHappy\n",
      "obietricekenobie\n",
      "widePepeLaugh widepeepoHappy\n",
      "obietricekenobie\n",
      "widePepeLaugh widepeepoHappy\n",
      "obietricekenobie\n",
      "widePepeLaugh widepeepoHappy\n",
      "obietricekenobie\n",
      "widePepeLaugh widepeepoHappy widePepeLaugh widepeepoHappy\n",
      "obietricekenobie\n",
      "widePepeLaugh widepeepoHappy\n",
      "obietricekenobie\n",
      "widePepeLaugh widepeepoHappy\n",
      "obietricekenobie\n",
      "widePepeLaugh widepeepoHappy\n",
      "obietricekenobie\n",
      "widePepeLaugh widepeepoHappy\n",
      "obietricekenobie\n",
      "widePepeLaugh widepeepoHappy\n",
      "obietricekenobie\n",
      "widePepeLaugh widepeepoHappy\n",
      "obietricekenobie\n",
      "widePepeLaugh widepeepoHappy\n",
      "obietricekenobie\n",
      "widePepeLaugh widepeepoHappy\n",
      "obietricekenobie\n",
      "widePepeLaugh widepeepoHappy\n",
      "obietricekenobie\n",
      "widePepeLaugh widepeepoHappy\n",
      "obietricekenobie\n",
      "widePepeLaugh widepeepoHappy\n",
      "obietricekenobie\n",
      "widePepeLaugh widepeepoHappy\n",
      "obietricekenobie\n",
      "widePepeLaugh widepeepoHappy\n",
      "obietricekenobie\n",
      "widePepeLaugh widepeepoHappy\n",
      "obietricekenobie\n",
      "widePepeLaugh widepeepoHappy\n",
      "obietricekenobie\n",
      "widePepeLaugh widepeepoHappy\n",
      "obietricekenobie\n",
      "widePepeLaugh widepeepoHappy\n",
      "obietricekenobie\n",
      "widePepeLaugh widepeepoHappy\n",
      "obietricekenobie\n",
      "widePepeLaugh widepeepoHappy\n",
      "obietricekenobie\n",
      "widePepeLaugh widepeepoHappy\n",
      "obietricekenobie\n",
      "widePepeLaugh widepeepoHappy\n",
      "obietricekenobie\n",
      "widePepeLaugh widepeepoHappy\n",
      "obietricekenobie\n",
      "widePepeLaugh widepeepoHappy\n",
      "obietricekenobie\n",
      "widePepeLaugh widepeepoHappy\n",
      "obietricekenobie\n",
      "widePepeLaugh widepeepoHappy\n",
      "obietricekenobie\n",
      "widePepeLaugh widepeepoHappy\n",
      "obietricekenobie\n",
      "widePepeLaugh widepeepoHappy\n",
      "obietricekenobie\n",
      "widePepeLaugh widepeepoHappy\n",
      "obietricekenobie\n",
      "xD XD\n",
      "obietricekenobie\n",
      "Dont look at me :(\n"
     ]
    }
   ],
   "source": [
    "#Continous message writing\n",
    "\n",
    "while True:\n",
    "    resp = sock.recv(2048).decode('utf-8')\n",
    "\n",
    "    if resp.startswith('PING'):\n",
    "        sock.send(\"PONG\\n\".encode('utf-8'))\n",
    "    \n",
    "    elif len(resp) > 0:\n",
    "        rgx = re.compile(r':([\\S ]+)![^:]*:([\\S ]*)')\n",
    "        r1 = rgx.search(demojize(resp));\n",
    "        print(r1.group(1))\n",
    "        print(r1.group(2))"
   ]
  },
  {
   "cell_type": "code",
   "execution_count": null,
   "metadata": {},
   "outputs": [],
   "source": []
  }
 ],
 "metadata": {
  "kernelspec": {
   "display_name": "Python 3",
   "language": "python",
   "name": "python3"
  },
  "language_info": {
   "codemirror_mode": {
    "name": "ipython",
    "version": 3
   },
   "file_extension": ".py",
   "mimetype": "text/x-python",
   "name": "python",
   "nbconvert_exporter": "python",
   "pygments_lexer": "ipython3",
   "version": "3.7.3"
  }
 },
 "nbformat": 4,
 "nbformat_minor": 2
}
