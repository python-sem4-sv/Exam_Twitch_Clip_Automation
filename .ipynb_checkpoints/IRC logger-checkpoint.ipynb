{
 "cells": [
  {
   "cell_type": "code",
   "execution_count": 8,
   "metadata": {},
   "outputs": [],
   "source": [
    "import socket\n",
    "import logging\n",
    "from emoji import demojize\n",
    "import re\n",
    "import time"
   ]
  },
  {
   "cell_type": "code",
   "execution_count": 9,
   "metadata": {},
   "outputs": [],
   "source": [
    "server = 'irc.chat.twitch.tv'\n",
    "port = 6667\n",
    "nickname = 'pythonprojectbot'\n",
    "token = 'oauth:wtualywhmoi5no29dugyu6e9g39azw'\n",
    "channel = '#oudwoods'"
   ]
  },
  {
   "cell_type": "code",
   "execution_count": 10,
   "metadata": {},
   "outputs": [
    {
     "data": {
      "text/plain": [
       "15"
      ]
     },
     "execution_count": 10,
     "metadata": {},
     "output_type": "execute_result"
    }
   ],
   "source": [
    "#attempting to connect to a desired twitch channels IRC with the info from above cell\n",
    "# https://www.learndatasci.com/tutorials/how-stream-text-data-twitch-sockets-python/\n",
    "sock = socket.socket()\n",
    "sock.connect((server,port))\n",
    "sock.send(f\"PASS {token}\\n\".encode('utf-8'))\n",
    "sock.send(f\"NICK {nickname}\\n\".encode('utf-8'))\n",
    "sock.send(f\"JOIN {channel}\\n\".encode('utf-8'))"
   ]
  },
  {
   "cell_type": "code",
   "execution_count": 11,
   "metadata": {},
   "outputs": [],
   "source": [
    "#Receiving channel messages\n",
    "resp = sock.recv(2048).decode(\"utf-8\")"
   ]
  },
  {
   "cell_type": "code",
   "execution_count": 12,
   "metadata": {},
   "outputs": [
    {
     "data": {
      "text/plain": [
       "1.6"
      ]
     },
     "execution_count": 12,
     "metadata": {},
     "output_type": "execute_result"
    }
   ],
   "source": [
    "#Establishing an average chat activity/minute to compare with\n",
    "start_time = time.time()\n",
    "curr_time = time.time()\n",
    "threshold = 60 * 5 #5 minutes \n",
    "messages_count = 0\n",
    "\n",
    "while curr_time - start_time < threshold:\n",
    "    curr_time = time.time()\n",
    "    \n",
    "    resp = sock.recv(2048).decode('utf-8')\n",
    "    if resp.startswith('PING'):\n",
    "        sock.send(\"PONG\\n\".encode('utf-8'))\n",
    "    \n",
    "    elif len(resp) > 0:\n",
    "        messages_count += 1\n",
    "        \n",
    "        \n",
    "chat_activity_avg = messages_count / 5\n",
    "\n",
    "chat_activity_avg"
   ]
  },
  {
   "cell_type": "code",
   "execution_count": null,
   "metadata": {},
   "outputs": [
    {
     "name": "stdout",
     "output_type": "stream",
     "text": [
      "('obietricekenobie', 'widepeepoHappy widemonkaHmm widePepeLaugh andersxD', 1557843178.8939965)\n",
      "('obietricekenobie', 'widepeepoHappy widemonkaHmm widePepeLaugh andersxD', 1557843178.9049647)\n",
      "('obietricekenobie', 'widepeepoHappy widemonkaHmm widePepeLaugh andersxD widepeepoHappy widemonkaHmm widePepeLaugh andersxD', 1557843178.9079578)\n",
      "('obietricekenobie', 'widepeepoHappy widemonkaHmm widePepeLaugh andersxD', 1557843179.027332)\n",
      "('obietricekenobie', 'widepeepoHappy widemonkaHmm widePepeLaugh andersxD', 1557843179.1054685)\n",
      "('obietricekenobie', 'widepeepoHappy widemonkaHmm widePepeLaugh andersxD', 1557843179.198538)\n",
      "('obietricekenobie', 'widepeepoHappy widemonkaHmm widePepeLaugh andersxD', 1557843179.3240511)\n",
      "('obietricekenobie', 'widepeepoHappy widemonkaHmm widePepeLaugh andersxD', 1557843179.451237)\n",
      "('obietricekenobie', 'widepeepoHappy widemonkaHmm widePepeLaugh andersxD', 1557843179.685947)\n",
      "('obietricekenobie', 'widepeepoHappy widemonkaHmm widePepeLaugh andersxD', 1557843179.7952802)\n",
      "('obietricekenobie', 'widepeepoHappy widemonkaHmm widePepeLaugh andersxD', 1557843179.8577664)\n",
      "('obietricekenobie', 'widepeepoHappy widemonkaHmm widePepeLaugh andersxD', 1557843180.1440067)\n",
      "('obietricekenobie', 'widepeepoHappy widemonkaHmm widePepeLaugh andersxD', 1557843180.2280238)\n",
      "('obietricekenobie', 'widepeepoHappy widemonkaHmm widePepeLaugh andersxD', 1557843180.411783)\n",
      "('obietricekenobie', 'widepeepoHappy widemonkaHmm widePepeLaugh andersxD', 1557843180.5051517)\n",
      "('obietricekenobie', 'widepeepoHappy widemonkaHmm widePepeLaugh andersxD', 1557843180.6147714)\n",
      "('obietricekenobie', 'widepeepoHappy widemonkaHmm widePepeLaugh andersxD', 1557843180.7603261)\n",
      "('obietricekenobie', 'widepeepoHappy widemonkaHmm widePepeLaugh andersxD', 1557843180.9389997)\n",
      "('obietricekenobie', 'widepeepoHappy widemonkaHmm widePepeLaugh andersxD', 1557843181.0386548)\n"
     ]
    }
   ],
   "source": [
    "start_time = time.time()\n",
    "curr_time = time.time()\n",
    "threshold = 60\n",
    "messages = []\n",
    "\n",
    "\n",
    "while True:      \n",
    "    if(len(messages) > chat_activity_avg * 2):\n",
    "        for msg in messages:\n",
    "            print(msg)\n",
    "    messages = []\n",
    "    \n",
    "    while curr_time - start_time < threshold:\n",
    "        curr_time = time.time()\n",
    "        \n",
    "        resp = sock.recv(2048).decode('utf-8')\n",
    "        if resp.startswith('PING'):\n",
    "            sock.send(\"PONG\\n\".encode('utf-8'))\n",
    "    \n",
    "        elif len(resp) > 0:\n",
    "            rgx = re.compile(r':([\\S ]+)![^:]*:([\\S ]*)')\n",
    "            r1 = rgx.search(demojize(resp));\n",
    "            messages.append((r1.group(1), r1.group(2), time.time()))\n",
    "    \n",
    "    "
   ]
  },
  {
   "cell_type": "code",
   "execution_count": null,
   "metadata": {},
   "outputs": [],
   "source": []
  },
  {
   "cell_type": "code",
   "execution_count": null,
   "metadata": {},
   "outputs": [],
   "source": []
  },
  {
   "cell_type": "code",
   "execution_count": null,
   "metadata": {},
   "outputs": [],
   "source": []
  }
 ],
 "metadata": {
  "kernelspec": {
   "display_name": "Python 3",
   "language": "python",
   "name": "python3"
  },
  "language_info": {
   "codemirror_mode": {
    "name": "ipython",
    "version": 3
   },
   "file_extension": ".py",
   "mimetype": "text/x-python",
   "name": "python",
   "nbconvert_exporter": "python",
   "pygments_lexer": "ipython3",
   "version": "3.7.3"
  }
 },
 "nbformat": 4,
 "nbformat_minor": 2
}
