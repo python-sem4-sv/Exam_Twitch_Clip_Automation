{
 "cells": [
  {
   "cell_type": "code",
   "execution_count": null,
   "metadata": {},
   "outputs": [],
   "source": [
    "import socket\n",
    "import logging\n",
    "from emoji import demojize\n",
    "import re\n",
    "import time"
   ]
  },
  {
   "cell_type": "code",
   "execution_count": null,
   "metadata": {},
   "outputs": [],
   "source": [
    "server = 'irc.chat.twitch.tv'\n",
    "port = 6667\n",
    "nickname = 'pythonprojectbot2'\n",
    "token = 'oauth:masqj2izeea5xr595pjftfhfuvw2bw'\n",
    "channel = '#sodapoppin'"
   ]
  },
  {
   "cell_type": "code",
   "execution_count": null,
   "metadata": {},
   "outputs": [],
   "source": [
    "#attempting to connect to a desired twitch channels IRC with the info from above cell\n",
    "# https://www.learndatasci.com/tutorials/how-stream-text-data-twitch-sockets-python/\n",
    "sock = socket.socket()\n",
    "sock.connect((server,port))\n",
    "sock.send(f\"PASS {token}\\n\".encode('utf-8'))\n",
    "sock.send(f\"NICK {nickname}\\n\".encode('utf-8'))\n",
    "sock.send(f\"JOIN {channel}\\n\".encode('utf-8'))"
   ]
  },
  {
   "cell_type": "code",
   "execution_count": null,
   "metadata": {},
   "outputs": [],
   "source": [
    "#Receiving channel messages\n",
    "resp = sock.recv(2048).decode(\"utf-8\")"
   ]
  },
  {
   "cell_type": "code",
   "execution_count": null,
   "metadata": {},
   "outputs": [],
   "source": [
    "def get_messages(threshold, messages):\n",
    "    messages = []\n",
    "    curr_time = time.time()\n",
    "    start_time = time.time()\n",
    "    \n",
    "    while curr_time - start_time < threshold:\n",
    "            curr_time = time.time()\n",
    "\n",
    "            chat_msg = scan_chat()\n",
    "            if chat_msg is not 0:\n",
    "                messages.append(chat_msg)\n",
    "                \n",
    "#     start_time = time.time()\n",
    "    return messages"
   ]
  },
  {
   "cell_type": "code",
   "execution_count": null,
   "metadata": {},
   "outputs": [],
   "source": [
    "def scan_chat():    \n",
    "    resp = sock.recv(2048).decode('utf-8')\n",
    "    if resp.startswith('PING'):\n",
    "        sock.send(\"PONG\\n\".encode('utf-8'))\n",
    "    \n",
    "    elif len(resp) > 0:\n",
    "        rgx = re.compile(r':([\\S ]+)![^:]*:([\\S ]*)')\n",
    "        r1 = rgx.search(demojize(resp));\n",
    "        return (r1.group(1), r1.group(2), time.time())\n",
    "    \n",
    "    return 0"
   ]
  },
  {
   "cell_type": "code",
   "execution_count": null,
   "metadata": {},
   "outputs": [],
   "source": [
    "def update_avg(messages, msg_count, msg_count_len):\n",
    "    msg_count_len = len(msg_count)\n",
    "    print(\"msg_count_len: \", msg_count_len)\n",
    "    \n",
    "    if msg_count_len < 12:\n",
    "        msg_count.append(len(messages))\n",
    "        return None\n",
    "    \n",
    "    elif msg_count_len == 12:\n",
    "        msg_count.pop(0)\n",
    "        msg_count.append(len(messages))\n",
    "        return sum(msg_count[:6]) / 6"
   ]
  },
  {
   "cell_type": "code",
   "execution_count": null,
   "metadata": {},
   "outputs": [],
   "source": [
    "def clip_or_nah(messages, chat_activity_avg, start_peak = None, start_chat_activity_avg = None):\n",
    "#     timestamp = (messages[0][2])\n",
    "#     timestamp -= 10\n",
    "#     print(messages[0][2])\n",
    "#     print(timestamp)\n",
    "   \n",
    "#     Get in here if there is a peak\n",
    "    if(len(messages) > chat_activity_avg * 2.0 and start_peak is None): \n",
    "#       Categorize what type of clip this is\n",
    "        category_count, emote_count = categorize_messages(messages)\n",
    "#       Set start peak\n",
    "        timestamp = messages[-1][2]\n",
    "        print(\"set start_peak\")       \n",
    "        return timestamp, chat_activity_avg\n",
    "        \n",
    "    elif start_peak is not None:\n",
    "        end_peak = time.time()\n",
    "        print(\"End - start peak: \", end_peak - start_peak)\n",
    "        \n",
    "        if len(messages) < start_chat_activity_avg * 1.5:\n",
    "            if end_peak - start_peak >= 20:\n",
    "                print(\"do selenium stuff\")\n",
    "#                 do_selenium_stuff(end_peak - start_peak)\n",
    "            return None, None\n",
    "            \n",
    "                \n",
    "#           Clip if peak is longer than 55 seconds  \n",
    "#           Reset peaks to avoid getting into the if statement when not having peaks\n",
    "        elif end_peak - start_peak >= 55:\n",
    "            print(\"do selenium stuff LONG\")\n",
    "#             do_selenium_stuff(60)\n",
    "            return None, None\n",
    "\n",
    "    return start_peak, start_chat_activity_avg"
   ]
  },
  {
   "cell_type": "code",
   "execution_count": null,
   "metadata": {},
   "outputs": [],
   "source": [
    "def categorize_messages(message_list):\n",
    "    emote_category_count = {}\n",
    "    emote_count = {}\n",
    "    for msg in message_list:\n",
    "        split_msg = msg[1].split(' ')\n",
    "        for word in split_msg:\n",
    "            word = word.strip()\n",
    "            for index, emote in enumerate(emote_feelings_dict):\n",
    "                if emote[1] == word:\n",
    "                    current_emote = emote_count.get(emote[1], 0)\n",
    "                    emote_count[emote[1]] = current_emote + 1\n",
    "                    category = emote_category_count.get(emote[0], 0)\n",
    "                    emote_category_count[emote[0]] =  category + 1\n",
    "                    break\n",
    "                elif index == len(emote_feelings_dict) - 1:\n",
    "                    category = emote_category_count.get(\"Other\", 0)\n",
    "                    emote_category_count[\"Other\"] = category + 1\n",
    "                    current_word = emote_count.get(word, 0)\n",
    "                    emote_count[word] = current_word + 1\n",
    "                    \n",
    "    return emote_category_count, emote_count"
   ]
  },
  {
   "cell_type": "code",
   "execution_count": null,
   "metadata": {},
   "outputs": [],
   "source": [
    "threshold = 10\n",
    "messages = []\n",
    "msg_count_len = []\n",
    "msg_count = []\n",
    "start_peak = None\n",
    "start_chat_activity_avg = None\n",
    "emote_feelings_dict = [\n",
    "    (\"awesome\", \"Pog\"), (\"awesome\", \"PogU\"), (\"awesome\", \"POGGERS\"), (\"awesome\", \"PogChamp\"),\n",
    "    (\"funny\", \"LULW\"), (\"funny\", \"LUL\"), (\"funny\", \"OMEGALUL\"), (\"funny\", \"DuckerZ\"),\n",
    "    (\"sad\", \"PepeHands\"), (\"sad\", \"FeelsBadMan\"),\n",
    "    (\"cringe\", \"haHAA\"),\n",
    "    (\"racial\", \"Trihard\"), (\"racial\", \"KKona\"),\n",
    "    (\"scary\", \"monkaS\"), (\"scary\", \"monkaW\"),\n",
    "    (\"sexy\", \"gachi\"), (\"sexy\", \"kreyGASM\")\n",
    "]\n"
   ]
  },
  {
   "cell_type": "code",
   "execution_count": null,
   "metadata": {
    "scrolled": false
   },
   "outputs": [],
   "source": [
    "start_time = time.time()\n",
    "\n",
    "while True:  \n",
    "    messages = get_messages(threshold, messages)\n",
    "\n",
    "    chat_activity_avg = update_avg(messages, msg_count, msg_count_len)\n",
    "    print(\"Chat avg: \", chat_activity_avg)\n",
    "    print(\"Messages len: \", len(messages))\n",
    "\n",
    "    if chat_activity_avg is not None:\n",
    "        start_peak, start_chat_activity_avg = clip_or_nah(messages, chat_activity_avg, start_peak, start_chat_activity_avg)\n",
    "        print(\" \")\n",
    "    \n",
    "    \n",
    "    \n",
    "    \n",
    "    "
   ]
  },
  {
   "cell_type": "code",
   "execution_count": null,
   "metadata": {},
   "outputs": [],
   "source": [
    "def test_test(variable_in):\n",
    "#     if variable_in is None:\n",
    "#         variable_in = \"Hello\"\n",
    "    return 1,2"
   ]
  },
  {
   "cell_type": "code",
   "execution_count": null,
   "metadata": {},
   "outputs": [],
   "source": [
    "variable_in = None\n"
   ]
  },
  {
   "cell_type": "code",
   "execution_count": null,
   "metadata": {},
   "outputs": [],
   "source": [
    "variable_in, variable_out = test_test(variable_in)\n",
    "\n",
    "print(variable_in)\n",
    "print(variable_out)"
   ]
  },
  {
   "cell_type": "code",
   "execution_count": null,
   "metadata": {},
   "outputs": [],
   "source": []
  }
 ],
 "metadata": {
  "kernelspec": {
   "display_name": "Python 3",
   "language": "python",
   "name": "python3"
  },
  "language_info": {
   "codemirror_mode": {
    "name": "ipython",
    "version": 3
   },
   "file_extension": ".py",
   "mimetype": "text/x-python",
   "name": "python",
   "nbconvert_exporter": "python",
   "pygments_lexer": "ipython3",
   "version": "3.7.3"
  }
 },
 "nbformat": 4,
 "nbformat_minor": 2
}
