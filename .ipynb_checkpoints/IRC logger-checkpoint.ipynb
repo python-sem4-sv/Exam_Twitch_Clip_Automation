{
 "cells": [
  {
   "cell_type": "code",
   "execution_count": 1,
   "metadata": {},
   "outputs": [],
   "source": [
    "import socket\n",
    "import logging\n",
    "from emoji import demojize\n",
    "import re\n",
    "import time"
   ]
  },
  {
   "cell_type": "code",
   "execution_count": 2,
   "metadata": {},
   "outputs": [],
   "source": [
    "server = 'irc.chat.twitch.tv'\n",
    "port = 6667\n",
    "nickname = 'pythonprojectbot'\n",
    "token = 'oauth:wtualywhmoi5no29dugyu6e9g39azw'\n",
    "channel = '#oudwoods'"
   ]
  },
  {
   "cell_type": "code",
   "execution_count": 3,
   "metadata": {},
   "outputs": [
    {
     "data": {
      "text/plain": [
       "15"
      ]
     },
     "execution_count": 3,
     "metadata": {},
     "output_type": "execute_result"
    }
   ],
   "source": [
    "#attempting to connect to a desired twitch channels IRC with the info from above cell\n",
    "\n",
    "sock = socket.socket()\n",
    "sock.connect((server,port))\n",
    "sock.send(f\"PASS {token}\\n\".encode('utf-8'))\n",
    "sock.send(f\"NICK {nickname}\\n\".encode('utf-8'))\n",
    "sock.send(f\"JOIN {channel}\\n\".encode('utf-8'))"
   ]
  },
  {
   "cell_type": "code",
   "execution_count": 4,
   "metadata": {},
   "outputs": [],
   "source": [
    "#Receiving channel messages\n",
    "resp = sock.recv(2048).decode(\"utf-8\")\n",
    "messages = []"
   ]
  },
  {
   "cell_type": "code",
   "execution_count": 6,
   "metadata": {},
   "outputs": [
    {
     "name": "stdout",
     "output_type": "stream",
     "text": [
      "0.0\n",
      "0.0009953975677490234\n",
      "0.42188310623168945\n",
      "1.4084577560424805\n",
      "2.157010793685913\n",
      "2.3108930587768555\n",
      "2.672811508178711\n",
      "3.0087337493896484\n",
      "3.3877522945404053\n",
      "3.727792739868164\n",
      "4.078107118606567\n",
      "6.540072202682495\n",
      "6.874026536941528\n",
      "7.108159780502319\n",
      "7.340801239013672\n",
      "7.581377744674683\n",
      "7.725809335708618\n",
      "8.096871376037598\n",
      "8.17495846748352\n",
      "8.359639883041382\n",
      "9.115680694580078\n",
      "9.251308917999268\n",
      "9.401298761367798\n",
      "9.526485443115234\n",
      "9.630995988845825\n"
     ]
    }
   ],
   "source": [
    "#Continous message writing\n",
    "start_time = time.time()\n",
    "threshold = 10\n",
    "curr_time = time.time()\n",
    "\n",
    "\n",
    "while curr_time-start_time<threshold:\n",
    "#     print(curr_time-start_time)\n",
    "    curr_time = time.time()\n",
    "    \n",
    "    resp = sock.recv(2048).decode('utf-8')\n",
    "    if resp.startswith('PING'):\n",
    "        sock.send(\"PONG\\n\".encode('utf-8'))\n",
    "    \n",
    "    elif len(resp) > 0:\n",
    "        rgx = re.compile(r':([\\S ]+)![^:]*:([\\S ]*)')\n",
    "        r1 = rgx.search(demojize(resp));\n",
    "        messages.append((r1.group(1), r1.group(2), time.time()))\n",
    "    "
   ]
  },
  {
   "cell_type": "code",
   "execution_count": null,
   "metadata": {},
   "outputs": [],
   "source": []
  },
  {
   "cell_type": "code",
   "execution_count": null,
   "metadata": {},
   "outputs": [],
   "source": []
  },
  {
   "cell_type": "code",
   "execution_count": null,
   "metadata": {},
   "outputs": [],
   "source": []
  }
 ],
 "metadata": {
  "kernelspec": {
   "display_name": "Python 3",
   "language": "python",
   "name": "python3"
  },
  "language_info": {
   "codemirror_mode": {
    "name": "ipython",
    "version": 3
   },
   "file_extension": ".py",
   "mimetype": "text/x-python",
   "name": "python",
   "nbconvert_exporter": "python",
   "pygments_lexer": "ipython3",
   "version": "3.7.3"
  }
 },
 "nbformat": 4,
 "nbformat_minor": 2
}
