{
 "cells": [
  {
   "cell_type": "code",
   "execution_count": 1,
   "metadata": {},
   "outputs": [],
   "source": [
    "import socket\n",
    "import logging\n",
    "from emoji import demojize\n",
    "import re\n",
    "import time"
   ]
  },
  {
   "cell_type": "code",
   "execution_count": 2,
   "metadata": {},
   "outputs": [],
   "source": [
    "server = 'irc.chat.twitch.tv'\n",
    "port = 6667\n",
    "nickname = 'pythonprojectbot'\n",
    "token = 'oauth:wtualywhmoi5no29dugyu6e9g39azw'\n",
    "channel = '#jakenbakelive'"
   ]
  },
  {
   "cell_type": "code",
   "execution_count": 3,
   "metadata": {},
   "outputs": [
    {
     "data": {
      "text/plain": [
       "20"
      ]
     },
     "execution_count": 3,
     "metadata": {},
     "output_type": "execute_result"
    }
   ],
   "source": [
    "#attempting to connect to a desired twitch channels IRC with the info from above cell\n",
    "# https://www.learndatasci.com/tutorials/how-stream-text-data-twitch-sockets-python/\n",
    "sock = socket.socket()\n",
    "sock.connect((server,port))\n",
    "sock.send(f\"PASS {token}\\n\".encode('utf-8'))\n",
    "sock.send(f\"NICK {nickname}\\n\".encode('utf-8'))\n",
    "sock.send(f\"JOIN {channel}\\n\".encode('utf-8'))"
   ]
  },
  {
   "cell_type": "code",
   "execution_count": 4,
   "metadata": {},
   "outputs": [],
   "source": [
    "#Receiving channel messages\n",
    "resp = sock.recv(2048).decode(\"utf-8\")"
   ]
  },
  {
   "cell_type": "code",
   "execution_count": 14,
   "metadata": {},
   "outputs": [],
   "source": [
    "def get_messages(threshold, messages):\n",
    "    messages = []\n",
    "    curr_time = time.time()\n",
    "    start_time = time.time()\n",
    "    \n",
    "    while curr_time - start_time < threshold:\n",
    "            curr_time = time.time()\n",
    "\n",
    "            chat_msg = scan_chat()\n",
    "            if chat_msg is not 0:\n",
    "                messages.append(chat_msg)\n",
    "                \n",
    "    start_time = time.time()\n",
    "    return messages"
   ]
  },
  {
   "cell_type": "code",
   "execution_count": 5,
   "metadata": {},
   "outputs": [],
   "source": [
    "#\n",
    "def scan_chat():    \n",
    "    resp = sock.recv(2048).decode('utf-8')\n",
    "    if resp.startswith('PING'):\n",
    "        sock.send(\"PONG\\n\".encode('utf-8'))\n",
    "    \n",
    "    elif len(resp) > 0:\n",
    "        rgx = re.compile(r':([\\S ]+)![^:]*:([\\S ]*)')\n",
    "        r1 = rgx.search(demojize(resp));\n",
    "        return (r1.group(1), r1.group(2), time.time())\n",
    "    \n",
    "    return 0"
   ]
  },
  {
   "cell_type": "code",
   "execution_count": 17,
   "metadata": {},
   "outputs": [],
   "source": [
    "def update_avg(messages, msg_count, msg_count_len):\n",
    "    msg_count_len = len(msg_count)\n",
    "    \n",
    "    if msg_count_len < 10:\n",
    "        msg_count.append(len(messages))\n",
    "        return 0\n",
    "    \n",
    "    elif msg_count_len == 10:\n",
    "        msg_count.pop(0)\n",
    "        msg_count.append(len(messages))\n",
    "        return sum(msg_count[:5]) / 5"
   ]
  },
  {
   "cell_type": "code",
   "execution_count": 15,
   "metadata": {},
   "outputs": [
    {
     "name": "stdout",
     "output_type": "stream",
     "text": [
      "0\n",
      "Chat avg:  0\n",
      "Messages len:  28\n",
      "Clip should not be printed\n",
      "1\n",
      "Chat avg:  0\n",
      "Messages len:  21\n",
      "Clip should not be printed\n",
      "2\n",
      "Chat avg:  0\n",
      "Messages len:  9\n",
      "Clip should not be printed\n",
      "3\n",
      "Chat avg:  0\n",
      "Messages len:  6\n",
      "Clip should not be printed\n",
      "4\n",
      "Chat avg:  0\n",
      "Messages len:  12\n",
      "Clip should not be printed\n",
      "5\n",
      "Chat avg:  13.2\n",
      "Messages len:  18\n",
      "Clip should not be printed\n",
      "5\n",
      "Chat avg:  10.2\n",
      "Messages len:  6\n",
      "Clip should not be printed\n",
      "5\n",
      "Chat avg:  10.2\n",
      "Messages len:  9\n",
      "Clip should not be printed\n",
      "5\n",
      "Chat avg:  10.8\n",
      "Messages len:  9\n",
      "Clip should not be printed\n",
      "5\n",
      "Chat avg:  9.8\n",
      "Messages len:  7\n",
      "Clip should not be printed\n",
      "5\n",
      "Chat avg:  7.6\n",
      "Messages len:  7\n",
      "Clip should not be printed\n",
      "5\n",
      "Chat avg:  8.4\n",
      "Messages len:  10\n",
      "Clip should not be printed\n",
      "5\n",
      "Chat avg:  8.4\n",
      "Messages len:  9\n",
      "Clip should not be printed\n",
      "5\n",
      "Chat avg:  8.4\n",
      "Messages len:  9\n",
      "Clip should not be printed\n",
      "5\n",
      "Chat avg:  12.0\n",
      "Messages len:  25\n",
      "Clip should happen here\n",
      "5\n",
      "Chat avg:  13.8\n",
      "Messages len:  16\n",
      "Clip should not be printed\n",
      "5\n",
      "Chat avg:  14.2\n",
      "Messages len:  12\n",
      "Clip should not be printed\n",
      "5\n",
      "Chat avg:  14.8\n",
      "Messages len:  12\n",
      "Clip should not be printed\n",
      "5\n",
      "Chat avg:  15.6\n",
      "Messages len:  13\n",
      "Clip should not be printed\n",
      "5\n",
      "Chat avg:  13.0\n",
      "Messages len:  12\n",
      "Clip should not be printed\n",
      "5\n",
      "Chat avg:  18.8\n",
      "Messages len:  45\n",
      "Clip should happen here\n",
      "5\n",
      "Chat avg:  26.0\n",
      "Messages len:  48\n",
      "Clip should not be printed\n",
      "5\n",
      "Chat avg:  28.6\n",
      "Messages len:  25\n",
      "Clip should not be printed\n",
      "5\n",
      "Chat avg:  28.0\n",
      "Messages len:  10\n",
      "Clip should not be printed\n",
      "5\n",
      "Chat avg:  28.2\n",
      "Messages len:  13\n",
      "Clip should not be printed\n",
      "5\n",
      "Chat avg:  22.0\n",
      "Messages len:  14\n",
      "Clip should not be printed\n",
      "5\n",
      "Chat avg:  16.4\n",
      "Messages len:  20\n",
      "Clip should not be printed\n",
      "5\n",
      "Chat avg:  14.6\n",
      "Messages len:  16\n",
      "Clip should not be printed\n",
      "5\n",
      "Chat avg:  15.0\n",
      "Messages len:  12\n",
      "Clip should not be printed\n",
      "5\n",
      "Chat avg:  14.6\n",
      "Messages len:  11\n",
      "Clip should not be printed\n",
      "5\n",
      "Chat avg:  13.8\n",
      "Messages len:  10\n",
      "Clip should not be printed\n"
     ]
    },
    {
     "ename": "KeyboardInterrupt",
     "evalue": "",
     "output_type": "error",
     "traceback": [
      "\u001b[1;31m---------------------------------------------------------------------------\u001b[0m",
      "\u001b[1;31mKeyboardInterrupt\u001b[0m                         Traceback (most recent call last)",
      "\u001b[1;32m<ipython-input-15-4647548c15f2>\u001b[0m in \u001b[0;36m<module>\u001b[1;34m\u001b[0m\n\u001b[0;32m      9\u001b[0m \u001b[1;33m\u001b[0m\u001b[0m\n\u001b[0;32m     10\u001b[0m \u001b[1;32mwhile\u001b[0m \u001b[1;32mTrue\u001b[0m\u001b[1;33m:\u001b[0m\u001b[1;33m\u001b[0m\u001b[1;33m\u001b[0m\u001b[0m\n\u001b[1;32m---> 11\u001b[1;33m     \u001b[0mmessages\u001b[0m \u001b[1;33m=\u001b[0m \u001b[0mget_messages\u001b[0m\u001b[1;33m(\u001b[0m\u001b[0mthreshold\u001b[0m\u001b[1;33m,\u001b[0m \u001b[0mmessages\u001b[0m\u001b[1;33m)\u001b[0m\u001b[1;33m\u001b[0m\u001b[1;33m\u001b[0m\u001b[0m\n\u001b[0m\u001b[0;32m     12\u001b[0m \u001b[1;33m\u001b[0m\u001b[0m\n\u001b[0;32m     13\u001b[0m     \u001b[0mchat_activity_avg\u001b[0m \u001b[1;33m=\u001b[0m \u001b[0mupdate_avg\u001b[0m\u001b[1;33m(\u001b[0m\u001b[0mmessages\u001b[0m\u001b[1;33m,\u001b[0m \u001b[0mmsg_count\u001b[0m\u001b[1;33m,\u001b[0m \u001b[0mmsg_count_len\u001b[0m\u001b[1;33m)\u001b[0m\u001b[1;33m\u001b[0m\u001b[1;33m\u001b[0m\u001b[0m\n",
      "\u001b[1;32m<ipython-input-14-372e8b45569c>\u001b[0m in \u001b[0;36mget_messages\u001b[1;34m(threshold, messages)\u001b[0m\n\u001b[0;32m      7\u001b[0m             \u001b[0mcurr_time\u001b[0m \u001b[1;33m=\u001b[0m \u001b[0mtime\u001b[0m\u001b[1;33m.\u001b[0m\u001b[0mtime\u001b[0m\u001b[1;33m(\u001b[0m\u001b[1;33m)\u001b[0m\u001b[1;33m\u001b[0m\u001b[1;33m\u001b[0m\u001b[0m\n\u001b[0;32m      8\u001b[0m \u001b[1;33m\u001b[0m\u001b[0m\n\u001b[1;32m----> 9\u001b[1;33m             \u001b[0mchat_msg\u001b[0m \u001b[1;33m=\u001b[0m \u001b[0mscan_chat\u001b[0m\u001b[1;33m(\u001b[0m\u001b[1;33m)\u001b[0m\u001b[1;33m\u001b[0m\u001b[1;33m\u001b[0m\u001b[0m\n\u001b[0m\u001b[0;32m     10\u001b[0m             \u001b[1;32mif\u001b[0m \u001b[0mchat_msg\u001b[0m \u001b[1;32mis\u001b[0m \u001b[1;32mnot\u001b[0m \u001b[1;36m0\u001b[0m\u001b[1;33m:\u001b[0m\u001b[1;33m\u001b[0m\u001b[1;33m\u001b[0m\u001b[0m\n\u001b[0;32m     11\u001b[0m                 \u001b[0mmessages\u001b[0m\u001b[1;33m.\u001b[0m\u001b[0mappend\u001b[0m\u001b[1;33m(\u001b[0m\u001b[0mchat_msg\u001b[0m\u001b[1;33m)\u001b[0m\u001b[1;33m\u001b[0m\u001b[1;33m\u001b[0m\u001b[0m\n",
      "\u001b[1;32m<ipython-input-5-783aee008d26>\u001b[0m in \u001b[0;36mscan_chat\u001b[1;34m()\u001b[0m\n\u001b[0;32m      1\u001b[0m \u001b[1;31m#\u001b[0m\u001b[1;33m\u001b[0m\u001b[1;33m\u001b[0m\u001b[1;33m\u001b[0m\u001b[0m\n\u001b[0;32m      2\u001b[0m \u001b[1;32mdef\u001b[0m \u001b[0mscan_chat\u001b[0m\u001b[1;33m(\u001b[0m\u001b[1;33m)\u001b[0m\u001b[1;33m:\u001b[0m\u001b[1;33m\u001b[0m\u001b[1;33m\u001b[0m\u001b[0m\n\u001b[1;32m----> 3\u001b[1;33m     \u001b[0mresp\u001b[0m \u001b[1;33m=\u001b[0m \u001b[0msock\u001b[0m\u001b[1;33m.\u001b[0m\u001b[0mrecv\u001b[0m\u001b[1;33m(\u001b[0m\u001b[1;36m2048\u001b[0m\u001b[1;33m)\u001b[0m\u001b[1;33m.\u001b[0m\u001b[0mdecode\u001b[0m\u001b[1;33m(\u001b[0m\u001b[1;34m'utf-8'\u001b[0m\u001b[1;33m)\u001b[0m\u001b[1;33m\u001b[0m\u001b[1;33m\u001b[0m\u001b[0m\n\u001b[0m\u001b[0;32m      4\u001b[0m     \u001b[1;32mif\u001b[0m \u001b[0mresp\u001b[0m\u001b[1;33m.\u001b[0m\u001b[0mstartswith\u001b[0m\u001b[1;33m(\u001b[0m\u001b[1;34m'PING'\u001b[0m\u001b[1;33m)\u001b[0m\u001b[1;33m:\u001b[0m\u001b[1;33m\u001b[0m\u001b[1;33m\u001b[0m\u001b[0m\n\u001b[0;32m      5\u001b[0m         \u001b[0msock\u001b[0m\u001b[1;33m.\u001b[0m\u001b[0msend\u001b[0m\u001b[1;33m(\u001b[0m\u001b[1;34m\"PONG\\n\"\u001b[0m\u001b[1;33m.\u001b[0m\u001b[0mencode\u001b[0m\u001b[1;33m(\u001b[0m\u001b[1;34m'utf-8'\u001b[0m\u001b[1;33m)\u001b[0m\u001b[1;33m)\u001b[0m\u001b[1;33m\u001b[0m\u001b[1;33m\u001b[0m\u001b[0m\n",
      "\u001b[1;31mKeyboardInterrupt\u001b[0m: "
     ]
    }
   ],
   "source": [
    "start_time = time.time()\n",
    "\n",
    "\n",
    "threshold = 10\n",
    "messages = []\n",
    "msg_count_len = []\n",
    "msg_count = []\n",
    "\n",
    "\n",
    "while True:  \n",
    "    messages = get_messages(threshold, messages)\n",
    "        \n",
    "    chat_activity_avg = update_avg(messages, msg_count, msg_count_len)\n",
    "    print(\"Chat avg: \", chat_activity_avg)\n",
    "    print(\"Messages len: \", len(messages))\n",
    "    \n",
    "    if(len(messages) > chat_activity_avg * 2 and chat_activity_avg is not 0):\n",
    "        print(\"Clip should happen here\")\n",
    "#         do_selenium_stuff()\n",
    "    else:\n",
    "        print(\"Clip should not be printed\")\n",
    "\n",
    "    \n",
    "    \n",
    "    \n",
    "    "
   ]
  },
  {
   "cell_type": "code",
   "execution_count": 16,
   "metadata": {},
   "outputs": [
    {
     "data": {
      "text/plain": [
       "3"
      ]
     },
     "execution_count": 16,
     "metadata": {},
     "output_type": "execute_result"
    }
   ],
   "source": [
    "test = [1,2,3,4,5,6]\n",
    "sum(test[:2])\n"
   ]
  },
  {
   "cell_type": "code",
   "execution_count": null,
   "metadata": {},
   "outputs": [],
   "source": [
    "test"
   ]
  },
  {
   "cell_type": "code",
   "execution_count": null,
   "metadata": {},
   "outputs": [],
   "source": []
  },
  {
   "cell_type": "code",
   "execution_count": null,
   "metadata": {},
   "outputs": [],
   "source": []
  }
 ],
 "metadata": {
  "kernelspec": {
   "display_name": "Python 3",
   "language": "python",
   "name": "python3"
  },
  "language_info": {
   "codemirror_mode": {
    "name": "ipython",
    "version": 3
   },
   "file_extension": ".py",
   "mimetype": "text/x-python",
   "name": "python",
   "nbconvert_exporter": "python",
   "pygments_lexer": "ipython3",
   "version": "3.7.3"
  }
 },
 "nbformat": 4,
 "nbformat_minor": 2
}
