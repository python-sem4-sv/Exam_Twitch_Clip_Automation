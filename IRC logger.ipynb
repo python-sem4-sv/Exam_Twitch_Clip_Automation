{
 "cells": [
  {
   "cell_type": "code",
   "execution_count": 1,
   "metadata": {},
   "outputs": [],
   "source": [
    "import socket\n",
    "import logging\n",
    "from emoji import demojize\n",
    "import re\n",
    "import time"
   ]
  },
  {
   "cell_type": "code",
   "execution_count": 2,
   "metadata": {},
   "outputs": [],
   "source": [
    "server = 'irc.chat.twitch.tv'\n",
    "port = 6667\n",
    "nickname = 'pythonprojectbot'\n",
    "token = 'oauth:wtualywhmoi5no29dugyu6e9g39azw'\n",
    "channel = '#jakenbakelive'"
   ]
  },
  {
   "cell_type": "code",
   "execution_count": 3,
   "metadata": {},
   "outputs": [
    {
     "data": {
      "text/plain": [
       "20"
      ]
     },
     "execution_count": 3,
     "metadata": {},
     "output_type": "execute_result"
    }
   ],
   "source": [
    "#attempting to connect to a desired twitch channels IRC with the info from above cell\n",
    "# https://www.learndatasci.com/tutorials/how-stream-text-data-twitch-sockets-python/\n",
    "sock = socket.socket()\n",
    "sock.connect((server,port))\n",
    "sock.send(f\"PASS {token}\\n\".encode('utf-8'))\n",
    "sock.send(f\"NICK {nickname}\\n\".encode('utf-8'))\n",
    "sock.send(f\"JOIN {channel}\\n\".encode('utf-8'))"
   ]
  },
  {
   "cell_type": "code",
   "execution_count": 4,
   "metadata": {},
   "outputs": [],
   "source": [
    "#Receiving channel messages\n",
    "resp = sock.recv(2048).decode(\"utf-8\")"
   ]
  },
  {
   "cell_type": "code",
   "execution_count": 5,
   "metadata": {},
   "outputs": [],
   "source": [
    "def get_messages(threshold, messages):\n",
    "    messages = []\n",
    "    curr_time = time.time()\n",
    "    start_time = time.time()\n",
    "    \n",
    "    while curr_time - start_time < threshold:\n",
    "            curr_time = time.time()\n",
    "\n",
    "            chat_msg = scan_chat()\n",
    "            if chat_msg is not 0:\n",
    "                messages.append(chat_msg)\n",
    "                \n",
    "    start_time = time.time()\n",
    "    return messages"
   ]
  },
  {
   "cell_type": "code",
   "execution_count": 6,
   "metadata": {},
   "outputs": [],
   "source": [
    "#\n",
    "def scan_chat():    \n",
    "    resp = sock.recv(2048).decode('utf-8')\n",
    "    if resp.startswith('PING'):\n",
    "        sock.send(\"PONG\\n\".encode('utf-8'))\n",
    "    \n",
    "    elif len(resp) > 0:\n",
    "        rgx = re.compile(r':([\\S ]+)![^:]*:([\\S ]*)')\n",
    "        r1 = rgx.search(demojize(resp));\n",
    "        return (r1.group(1), r1.group(2), time.time())\n",
    "    \n",
    "    return 0"
   ]
  },
  {
   "cell_type": "code",
   "execution_count": 7,
   "metadata": {},
   "outputs": [],
   "source": [
    "def update_avg(messages, msg_count, msg_count_len):\n",
    "    msg_count_len = len(msg_count)\n",
    "    \n",
    "    if msg_count_len < 10:\n",
    "        msg_count.append(len(messages))\n",
    "        return 0\n",
    "    \n",
    "    elif msg_count_len == 10:\n",
    "        msg_count.pop(0)\n",
    "        msg_count.append(len(messages))\n",
    "        return sum(msg_count[:5]) / 5"
   ]
  },
  {
   "cell_type": "code",
   "execution_count": 8,
   "metadata": {},
   "outputs": [],
   "source": [
    "def categorize_messages(message_list):\n",
    "    emote_category_count = {}\n",
    "    emote_count = {}\n",
    "    for msg in message_list:\n",
    "        for emote in emote_feelings_dict:\n",
    "            if emote[1] in msg:\n",
    "                emote = emote_count.get(emote[1], 0)\n",
    "                category = emote_category_count.get(emote[0], 0)\n",
    "                emote_category_count = setdefault(emote[1], emote + 1)\n",
    "                emote_category_count.setdefault(emote[0], category + 1)\n",
    "            else:\n",
    "                category = emote_category_count.get(\"Other\", 0)\n",
    "                emote_category_count.setdefault(\"Other\", category + 1)\n",
    "    return emote_category_count, emote_count"
   ]
  },
  {
   "cell_type": "code",
   "execution_count": 9,
   "metadata": {},
   "outputs": [],
   "source": [
    "threshold = 10\n",
    "messages = []\n",
    "msg_count_len = []\n",
    "msg_count = []\n",
    "emote_feelings_dict = [\n",
    "    (\"awesome\", \"Pog\"), (\"awesome\", \"PogU\"), (\"awesome\", \"POGGERS\"), (\"awesome\", \"PogChamp\"),\n",
    "    (\"funny\", \"LULW\"), (\"funny\", \"LUL\"), (\"funny\", \"OMEGALUL\"), (\"funny\", \"DuckerZ\"),\n",
    "    (\"sad\", \"PepeHands\"), (\"sad\", \"FeelsBadMan\"),\n",
    "    (\"cringe\", \"haHAA\"),\n",
    "    (\"racial\", \"Trihard\"), (\"racial\", \"KKona\"),\n",
    "    (\"scary\", \"monkaS\"), (\"scary\", \"monkaW\"),\n",
    "    (\"sexy\", \"gachi\"), (\"sexy\", \"kreyGASM\")\n",
    "]"
   ]
  },
  {
   "cell_type": "code",
   "execution_count": 10,
   "metadata": {},
   "outputs": [
    {
     "name": "stdout",
     "output_type": "stream",
     "text": [
      "Chat avg:  0\n",
      "Messages len:  7\n",
      "Clip should not be printed\n",
      "Chat avg:  0\n",
      "Messages len:  8\n",
      "Clip should not be printed\n",
      "Chat avg:  0\n",
      "Messages len:  43\n",
      "Clip should not be printed\n",
      "Chat avg:  0\n",
      "Messages len:  20\n",
      "Clip should not be printed\n",
      "Chat avg:  0\n",
      "Messages len:  8\n",
      "Clip should not be printed\n",
      "Chat avg:  0\n",
      "Messages len:  7\n",
      "Clip should not be printed\n",
      "Chat avg:  0\n",
      "Messages len:  3\n",
      "Clip should not be printed\n",
      "Chat avg:  0\n",
      "Messages len:  9\n",
      "Clip should not be printed\n",
      "Chat avg:  0\n",
      "Messages len:  9\n",
      "Clip should not be printed\n",
      "Chat avg:  0\n",
      "Messages len:  12\n",
      "Clip should not be printed\n",
      "Chat avg:  17.2\n",
      "Messages len:  5\n",
      "Clip should not be printed\n",
      "Chat avg:  16.2\n",
      "Messages len:  6\n",
      "Clip should not be printed\n",
      "Chat avg:  9.4\n",
      "Messages len:  10\n",
      "Clip should not be printed\n",
      "Chat avg:  7.2\n",
      "Messages len:  10\n",
      "Clip should not be printed\n",
      "Chat avg:  8.0\n",
      "Messages len:  11\n",
      "Clip should not be printed\n",
      "Chat avg:  7.6\n",
      "Messages len:  10\n",
      "Clip should not be printed\n",
      "Chat avg:  8.2\n",
      "Messages len:  4\n",
      "Clip should not be printed\n",
      "Chat avg:  8.4\n",
      "Messages len:  7\n",
      "Clip should not be printed\n",
      "Chat avg:  8.6\n",
      "Messages len:  10\n",
      "Clip should not be printed\n",
      "Chat avg:  8.4\n",
      "Messages len:  30\n",
      "Clip should happen here\n"
     ]
    },
    {
     "ename": "TypeError",
     "evalue": "'int' object is not subscriptable",
     "output_type": "error",
     "traceback": [
      "\u001b[1;31m---------------------------------------------------------------------------\u001b[0m",
      "\u001b[1;31mTypeError\u001b[0m                                 Traceback (most recent call last)",
      "\u001b[1;32m<ipython-input-10-b8d128cf38a3>\u001b[0m in \u001b[0;36m<module>\u001b[1;34m\u001b[0m\n\u001b[0;32m     11\u001b[0m     \u001b[1;32mif\u001b[0m\u001b[1;33m(\u001b[0m\u001b[0mlen\u001b[0m\u001b[1;33m(\u001b[0m\u001b[0mmessages\u001b[0m\u001b[1;33m)\u001b[0m \u001b[1;33m>\u001b[0m \u001b[0mchat_activity_avg\u001b[0m \u001b[1;33m*\u001b[0m \u001b[1;36m2\u001b[0m \u001b[1;32mand\u001b[0m \u001b[0mchat_activity_avg\u001b[0m \u001b[1;32mis\u001b[0m \u001b[1;32mnot\u001b[0m \u001b[1;36m0\u001b[0m\u001b[1;33m)\u001b[0m\u001b[1;33m:\u001b[0m\u001b[1;33m\u001b[0m\u001b[1;33m\u001b[0m\u001b[0m\n\u001b[0;32m     12\u001b[0m         \u001b[0mprint\u001b[0m\u001b[1;33m(\u001b[0m\u001b[1;34m\"Clip should happen here\"\u001b[0m\u001b[1;33m)\u001b[0m\u001b[1;33m\u001b[0m\u001b[1;33m\u001b[0m\u001b[0m\n\u001b[1;32m---> 13\u001b[1;33m         \u001b[0mcategory_count\u001b[0m\u001b[1;33m,\u001b[0m \u001b[0memote_count\u001b[0m \u001b[1;33m=\u001b[0m \u001b[0mcategorize_messages\u001b[0m\u001b[1;33m(\u001b[0m\u001b[0mmessages\u001b[0m\u001b[1;33m)\u001b[0m\u001b[1;33m\u001b[0m\u001b[1;33m\u001b[0m\u001b[0m\n\u001b[0m\u001b[0;32m     14\u001b[0m         \u001b[0mprint\u001b[0m\u001b[1;33m(\u001b[0m\u001b[0mcategory_count\u001b[0m\u001b[1;33m)\u001b[0m\u001b[1;33m\u001b[0m\u001b[1;33m\u001b[0m\u001b[0m\n\u001b[0;32m     15\u001b[0m         \u001b[0mprint\u001b[0m\u001b[1;33m(\u001b[0m\u001b[0memote_count\u001b[0m\u001b[1;33m)\u001b[0m\u001b[1;33m\u001b[0m\u001b[1;33m\u001b[0m\u001b[0m\n",
      "\u001b[1;32m<ipython-input-8-e94799310eeb>\u001b[0m in \u001b[0;36mcategorize_messages\u001b[1;34m(message_list)\u001b[0m\n\u001b[0;32m      6\u001b[0m             \u001b[1;32mif\u001b[0m \u001b[0memote\u001b[0m\u001b[1;33m[\u001b[0m\u001b[1;36m1\u001b[0m\u001b[1;33m]\u001b[0m \u001b[1;32min\u001b[0m \u001b[0mmsg\u001b[0m\u001b[1;33m:\u001b[0m\u001b[1;33m\u001b[0m\u001b[1;33m\u001b[0m\u001b[0m\n\u001b[0;32m      7\u001b[0m                 \u001b[0memote\u001b[0m \u001b[1;33m=\u001b[0m \u001b[0memote_count\u001b[0m\u001b[1;33m.\u001b[0m\u001b[0mget\u001b[0m\u001b[1;33m(\u001b[0m\u001b[0memote\u001b[0m\u001b[1;33m[\u001b[0m\u001b[1;36m1\u001b[0m\u001b[1;33m]\u001b[0m\u001b[1;33m,\u001b[0m \u001b[1;36m0\u001b[0m\u001b[1;33m)\u001b[0m\u001b[1;33m\u001b[0m\u001b[1;33m\u001b[0m\u001b[0m\n\u001b[1;32m----> 8\u001b[1;33m                 \u001b[0mcategory\u001b[0m \u001b[1;33m=\u001b[0m \u001b[0memote_category_count\u001b[0m\u001b[1;33m.\u001b[0m\u001b[0mget\u001b[0m\u001b[1;33m(\u001b[0m\u001b[0memote\u001b[0m\u001b[1;33m[\u001b[0m\u001b[1;36m0\u001b[0m\u001b[1;33m]\u001b[0m\u001b[1;33m,\u001b[0m \u001b[1;36m0\u001b[0m\u001b[1;33m)\u001b[0m\u001b[1;33m\u001b[0m\u001b[1;33m\u001b[0m\u001b[0m\n\u001b[0m\u001b[0;32m      9\u001b[0m                 \u001b[0memote_category_count\u001b[0m \u001b[1;33m=\u001b[0m \u001b[0msetdefault\u001b[0m\u001b[1;33m(\u001b[0m\u001b[0memote\u001b[0m\u001b[1;33m[\u001b[0m\u001b[1;36m1\u001b[0m\u001b[1;33m]\u001b[0m\u001b[1;33m,\u001b[0m \u001b[0memote\u001b[0m \u001b[1;33m+\u001b[0m \u001b[1;36m1\u001b[0m\u001b[1;33m)\u001b[0m\u001b[1;33m\u001b[0m\u001b[1;33m\u001b[0m\u001b[0m\n\u001b[0;32m     10\u001b[0m                 \u001b[0memote_category_count\u001b[0m\u001b[1;33m.\u001b[0m\u001b[0msetdefault\u001b[0m\u001b[1;33m(\u001b[0m\u001b[0memote\u001b[0m\u001b[1;33m[\u001b[0m\u001b[1;36m0\u001b[0m\u001b[1;33m]\u001b[0m\u001b[1;33m,\u001b[0m \u001b[0mcategory\u001b[0m \u001b[1;33m+\u001b[0m \u001b[1;36m1\u001b[0m\u001b[1;33m)\u001b[0m\u001b[1;33m\u001b[0m\u001b[1;33m\u001b[0m\u001b[0m\n",
      "\u001b[1;31mTypeError\u001b[0m: 'int' object is not subscriptable"
     ]
    }
   ],
   "source": [
    "start_time = time.time()\n",
    "\n",
    "\n",
    "while True:  \n",
    "    messages = get_messages(threshold, messages)\n",
    "        \n",
    "    chat_activity_avg = update_avg(messages, msg_count, msg_count_len)\n",
    "    print(\"Chat avg: \", chat_activity_avg)\n",
    "    print(\"Messages len: \", len(messages))\n",
    "    \n",
    "    if(len(messages) > chat_activity_avg * 2 and chat_activity_avg is not 0):\n",
    "        print(\"Clip should happen here\")\n",
    "        category_count, emote_count = categorize_messages(messages)\n",
    "        print(category_count)\n",
    "        print(emote_count)\n",
    "#         do_selenium_stuff()\n",
    "    else:\n",
    "        print(\"Clip should not be printed\")\n",
    "\n",
    "    \n",
    "    \n",
    "    \n",
    "    "
   ]
  }
 ],
 "metadata": {
  "kernelspec": {
   "display_name": "Python 3",
   "language": "python",
   "name": "python3"
  },
  "language_info": {
   "codemirror_mode": {
    "name": "ipython",
    "version": 3
   },
   "file_extension": ".py",
   "mimetype": "text/x-python",
   "name": "python",
   "nbconvert_exporter": "python",
   "pygments_lexer": "ipython3",
   "version": "3.7.3"
  }
 },
 "nbformat": 4,
 "nbformat_minor": 2
}
